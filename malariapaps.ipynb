{
 "cells": [
  {
   "cell_type": "code",
   "execution_count": null,
   "metadata": {},
   "outputs": [],
   "source": [
    "from Bio import Entrez\n",
    "import pandas as pd\n",
    "import numpy as np\n",
    "\n",
    "# Search strategy to download pubmed papers on Severe malaria \n",
    "# that deal with polymorphisms\n",
    "\n",
    "Entrez.email=\"kevin.esoh@students.jkuat.ac.ke\"\n",
    "api_key=\"\"\n",
    "\n",
    "handle=Entrez.search(db=\"pubmed\", qury=\"\")"
   ]
  }
 ],
 "metadata": {
  "kernelspec": {
   "display_name": "Python 3",
   "language": "python",
   "name": "python3"
  },
  "language_info": {
   "codemirror_mode": {
    "name": "ipython",
    "version": 3
   },
   "file_extension": ".py",
   "mimetype": "text/x-python",
   "name": "python",
   "nbconvert_exporter": "python",
   "pygments_lexer": "ipython3",
   "version": "3.7.0"
  }
 },
 "nbformat": 4,
 "nbformat_minor": 2
}
